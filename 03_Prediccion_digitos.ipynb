{
  "cells": [
    {
      "cell_type": "markdown",
      "metadata": {
        "id": "view-in-github",
        "colab_type": "text"
      },
      "source": [
        "<a href=\"https://colab.research.google.com/github/borianijc/Casa/blob/main/03_Prediccion_digitos.ipynb\" target=\"_parent\"><img src=\"https://colab.research.google.com/assets/colab-badge.svg\" alt=\"Open In Colab\"/></a>"
      ]
    },
    {
      "cell_type": "code",
      "execution_count": 1,
      "id": "92b0ce21",
      "metadata": {
        "_cell_guid": "b1076dfc-b9ad-4769-8c92-a6c4dae69d19",
        "_uuid": "8f2839f25d086af736a60e9eeb907d3b93b6e0e5",
        "execution": {
          "iopub.execute_input": "2022-11-04T02:16:48.033643Z",
          "iopub.status.busy": "2022-11-04T02:16:48.031889Z",
          "iopub.status.idle": "2022-11-04T02:16:48.052822Z",
          "shell.execute_reply": "2022-11-04T02:16:48.049974Z"
        },
        "papermill": {
          "duration": 0.036576,
          "end_time": "2022-11-04T02:16:48.056993",
          "exception": false,
          "start_time": "2022-11-04T02:16:48.020417",
          "status": "completed"
        },
        "tags": [],
        "id": "92b0ce21"
      },
      "outputs": [],
      "source": [
        "import numpy as np\n",
        "import pandas as pd\n",
        "\n",
        "import os, warnings\n",
        "import matplotlib.pyplot as plt\n",
        "from matplotlib import gridspec\n",
        "import random\n",
        "\n",
        "from sklearn.model_selection import train_test_split\n",
        "\n",
        "from tensorflow import keras\n",
        "from tensorflow.keras import layers\n",
        "\n",
        "import tensorflow as tf\n",
        "from tensorflow.keras.callbacks import EarlyStopping"
      ]
    },
    {
      "cell_type": "markdown",
      "source": [
        "# 1. Analizar los datos"
      ],
      "metadata": {
        "id": "w7o4-WeBxYEg"
      },
      "id": "w7o4-WeBxYEg"
    },
    {
      "cell_type": "markdown",
      "source": [],
      "metadata": {
        "id": "nBL3scTp6b-I"
      },
      "id": "nBL3scTp6b-I"
    },
    {
      "cell_type": "markdown",
      "id": "7e9163b4",
      "metadata": {
        "papermill": {
          "duration": 0.006382,
          "end_time": "2022-11-04T02:16:48.073712",
          "exception": false,
          "start_time": "2022-11-04T02:16:48.067330",
          "status": "completed"
        },
        "tags": [],
        "id": "7e9163b4"
      },
      "source": [
        "Ahora sí, vamos a cargar todas las herramientas para empezar a trabajar, para comenzar Keras y Tensorflow. Voy a cargar lo mínimo necesario para poder aunque sea VER una imagen"
      ]
    },
    {
      "cell_type": "code",
      "execution_count": 2,
      "id": "2987faed",
      "metadata": {
        "execution": {
          "iopub.execute_input": "2022-11-04T02:16:48.090254Z",
          "iopub.status.busy": "2022-11-04T02:16:48.089303Z",
          "iopub.status.idle": "2022-11-04T02:16:55.959188Z",
          "shell.execute_reply": "2022-11-04T02:16:55.957875Z"
        },
        "papermill": {
          "duration": 7.881215,
          "end_time": "2022-11-04T02:16:55.961920",
          "exception": false,
          "start_time": "2022-11-04T02:16:48.080705",
          "status": "completed"
        },
        "tags": [],
        "id": "2987faed"
      },
      "outputs": [],
      "source": [
        "# Matplotlib\n",
        "plt.rc('figure', autolayout=True)\n",
        "plt.rc('axes', labelweight='bold', labelsize='large',\n",
        "       titleweight='bold', titlesize=18, titlepad=10)\n",
        "plt.rc('image', cmap='magma')\n",
        "warnings.filterwarnings(\"ignore\")"
      ]
    },
    {
      "cell_type": "markdown",
      "id": "cdcd9f08",
      "metadata": {
        "papermill": {
          "duration": 0.005935,
          "end_time": "2022-11-04T02:16:55.974089",
          "exception": false,
          "start_time": "2022-11-04T02:16:55.968154",
          "status": "completed"
        },
        "tags": [],
        "id": "cdcd9f08"
      },
      "source": [
        "Ahora sí, cargamos los datasets"
      ]
    },
    {
      "cell_type": "code",
      "source": [
        "drive_test = \"https://drive.google.com/file/d/1hBoK0ONDI05BKZi3uO9S3Q6v-H0O9NsU/view?usp=sharing\"\n",
        "drive_train = \"https://drive.google.com/file/d/1r7xj5Rq2Vtl_TDTgiDsgahM8-pJrk5w3/view?usp=sharing\"\n",
        "\n",
        "ruta_test = 'https://drive.google.com/uc?export=download&id='+drive_test.split('/')[-2]\n",
        "ruta_train = 'https://drive.google.com/uc?export=download&id='+drive_train.split('/')[-2]"
      ],
      "metadata": {
        "id": "2o-MmCfvZwD1"
      },
      "id": "2o-MmCfvZwD1",
      "execution_count": 3,
      "outputs": []
    },
    {
      "cell_type": "code",
      "execution_count": 4,
      "id": "67aad01d",
      "metadata": {
        "execution": {
          "iopub.execute_input": "2022-11-04T02:16:55.988586Z",
          "iopub.status.busy": "2022-11-04T02:16:55.987854Z",
          "iopub.status.idle": "2022-11-04T02:17:01.858822Z",
          "shell.execute_reply": "2022-11-04T02:17:01.857587Z"
        },
        "papermill": {
          "duration": 5.88103,
          "end_time": "2022-11-04T02:17:01.861462",
          "exception": false,
          "start_time": "2022-11-04T02:16:55.980432",
          "status": "completed"
        },
        "tags": [],
        "id": "67aad01d",
        "outputId": "7f51df4f-fc41-4e47-f394-d333b07de5e3",
        "colab": {
          "base_uri": "https://localhost:8080/",
          "height": 236
        }
      },
      "outputs": [
        {
          "output_type": "execute_result",
          "data": {
            "text/plain": [
              "   pixel0  pixel1  pixel2  pixel3  pixel4  pixel5  pixel6  pixel7  pixel8  \\\n",
              "0       0       0       0       0       0       0       0       0       0   \n",
              "1       0       0       0       0       0       0       0       0       0   \n",
              "2       0       0       0       0       0       0       0       0       0   \n",
              "3       0       0       0       0       0       0       0       0       0   \n",
              "4       0       0       0       0       0       0       0       0       0   \n",
              "\n",
              "   pixel9  ...  pixel774  pixel775  pixel776  pixel777  pixel778  pixel779  \\\n",
              "0       0  ...         0         0         0         0         0         0   \n",
              "1       0  ...         0         0         0         0         0         0   \n",
              "2       0  ...         0         0         0         0         0         0   \n",
              "3       0  ...         0         0         0         0         0         0   \n",
              "4       0  ...         0         0         0         0         0         0   \n",
              "\n",
              "   pixel780  pixel781  pixel782  pixel783  \n",
              "0         0         0         0         0  \n",
              "1         0         0         0         0  \n",
              "2         0         0         0         0  \n",
              "3         0         0         0         0  \n",
              "4         0         0         0         0  \n",
              "\n",
              "[5 rows x 784 columns]"
            ],
            "text/html": [
              "\n",
              "  <div id=\"df-9b7e4e03-e468-4956-ab09-284b4ae8b0a7\" class=\"colab-df-container\">\n",
              "    <div>\n",
              "<style scoped>\n",
              "    .dataframe tbody tr th:only-of-type {\n",
              "        vertical-align: middle;\n",
              "    }\n",
              "\n",
              "    .dataframe tbody tr th {\n",
              "        vertical-align: top;\n",
              "    }\n",
              "\n",
              "    .dataframe thead th {\n",
              "        text-align: right;\n",
              "    }\n",
              "</style>\n",
              "<table border=\"1\" class=\"dataframe\">\n",
              "  <thead>\n",
              "    <tr style=\"text-align: right;\">\n",
              "      <th></th>\n",
              "      <th>pixel0</th>\n",
              "      <th>pixel1</th>\n",
              "      <th>pixel2</th>\n",
              "      <th>pixel3</th>\n",
              "      <th>pixel4</th>\n",
              "      <th>pixel5</th>\n",
              "      <th>pixel6</th>\n",
              "      <th>pixel7</th>\n",
              "      <th>pixel8</th>\n",
              "      <th>pixel9</th>\n",
              "      <th>...</th>\n",
              "      <th>pixel774</th>\n",
              "      <th>pixel775</th>\n",
              "      <th>pixel776</th>\n",
              "      <th>pixel777</th>\n",
              "      <th>pixel778</th>\n",
              "      <th>pixel779</th>\n",
              "      <th>pixel780</th>\n",
              "      <th>pixel781</th>\n",
              "      <th>pixel782</th>\n",
              "      <th>pixel783</th>\n",
              "    </tr>\n",
              "  </thead>\n",
              "  <tbody>\n",
              "    <tr>\n",
              "      <th>0</th>\n",
              "      <td>0</td>\n",
              "      <td>0</td>\n",
              "      <td>0</td>\n",
              "      <td>0</td>\n",
              "      <td>0</td>\n",
              "      <td>0</td>\n",
              "      <td>0</td>\n",
              "      <td>0</td>\n",
              "      <td>0</td>\n",
              "      <td>0</td>\n",
              "      <td>...</td>\n",
              "      <td>0</td>\n",
              "      <td>0</td>\n",
              "      <td>0</td>\n",
              "      <td>0</td>\n",
              "      <td>0</td>\n",
              "      <td>0</td>\n",
              "      <td>0</td>\n",
              "      <td>0</td>\n",
              "      <td>0</td>\n",
              "      <td>0</td>\n",
              "    </tr>\n",
              "    <tr>\n",
              "      <th>1</th>\n",
              "      <td>0</td>\n",
              "      <td>0</td>\n",
              "      <td>0</td>\n",
              "      <td>0</td>\n",
              "      <td>0</td>\n",
              "      <td>0</td>\n",
              "      <td>0</td>\n",
              "      <td>0</td>\n",
              "      <td>0</td>\n",
              "      <td>0</td>\n",
              "      <td>...</td>\n",
              "      <td>0</td>\n",
              "      <td>0</td>\n",
              "      <td>0</td>\n",
              "      <td>0</td>\n",
              "      <td>0</td>\n",
              "      <td>0</td>\n",
              "      <td>0</td>\n",
              "      <td>0</td>\n",
              "      <td>0</td>\n",
              "      <td>0</td>\n",
              "    </tr>\n",
              "    <tr>\n",
              "      <th>2</th>\n",
              "      <td>0</td>\n",
              "      <td>0</td>\n",
              "      <td>0</td>\n",
              "      <td>0</td>\n",
              "      <td>0</td>\n",
              "      <td>0</td>\n",
              "      <td>0</td>\n",
              "      <td>0</td>\n",
              "      <td>0</td>\n",
              "      <td>0</td>\n",
              "      <td>...</td>\n",
              "      <td>0</td>\n",
              "      <td>0</td>\n",
              "      <td>0</td>\n",
              "      <td>0</td>\n",
              "      <td>0</td>\n",
              "      <td>0</td>\n",
              "      <td>0</td>\n",
              "      <td>0</td>\n",
              "      <td>0</td>\n",
              "      <td>0</td>\n",
              "    </tr>\n",
              "    <tr>\n",
              "      <th>3</th>\n",
              "      <td>0</td>\n",
              "      <td>0</td>\n",
              "      <td>0</td>\n",
              "      <td>0</td>\n",
              "      <td>0</td>\n",
              "      <td>0</td>\n",
              "      <td>0</td>\n",
              "      <td>0</td>\n",
              "      <td>0</td>\n",
              "      <td>0</td>\n",
              "      <td>...</td>\n",
              "      <td>0</td>\n",
              "      <td>0</td>\n",
              "      <td>0</td>\n",
              "      <td>0</td>\n",
              "      <td>0</td>\n",
              "      <td>0</td>\n",
              "      <td>0</td>\n",
              "      <td>0</td>\n",
              "      <td>0</td>\n",
              "      <td>0</td>\n",
              "    </tr>\n",
              "    <tr>\n",
              "      <th>4</th>\n",
              "      <td>0</td>\n",
              "      <td>0</td>\n",
              "      <td>0</td>\n",
              "      <td>0</td>\n",
              "      <td>0</td>\n",
              "      <td>0</td>\n",
              "      <td>0</td>\n",
              "      <td>0</td>\n",
              "      <td>0</td>\n",
              "      <td>0</td>\n",
              "      <td>...</td>\n",
              "      <td>0</td>\n",
              "      <td>0</td>\n",
              "      <td>0</td>\n",
              "      <td>0</td>\n",
              "      <td>0</td>\n",
              "      <td>0</td>\n",
              "      <td>0</td>\n",
              "      <td>0</td>\n",
              "      <td>0</td>\n",
              "      <td>0</td>\n",
              "    </tr>\n",
              "  </tbody>\n",
              "</table>\n",
              "<p>5 rows × 784 columns</p>\n",
              "</div>\n",
              "    <div class=\"colab-df-buttons\">\n",
              "\n",
              "  <div class=\"colab-df-container\">\n",
              "    <button class=\"colab-df-convert\" onclick=\"convertToInteractive('df-9b7e4e03-e468-4956-ab09-284b4ae8b0a7')\"\n",
              "            title=\"Convert this dataframe to an interactive table.\"\n",
              "            style=\"display:none;\">\n",
              "\n",
              "  <svg xmlns=\"http://www.w3.org/2000/svg\" height=\"24px\" viewBox=\"0 -960 960 960\">\n",
              "    <path d=\"M120-120v-720h720v720H120Zm60-500h600v-160H180v160Zm220 220h160v-160H400v160Zm0 220h160v-160H400v160ZM180-400h160v-160H180v160Zm440 0h160v-160H620v160ZM180-180h160v-160H180v160Zm440 0h160v-160H620v160Z\"/>\n",
              "  </svg>\n",
              "    </button>\n",
              "\n",
              "  <style>\n",
              "    .colab-df-container {\n",
              "      display:flex;\n",
              "      gap: 12px;\n",
              "    }\n",
              "\n",
              "    .colab-df-convert {\n",
              "      background-color: #E8F0FE;\n",
              "      border: none;\n",
              "      border-radius: 50%;\n",
              "      cursor: pointer;\n",
              "      display: none;\n",
              "      fill: #1967D2;\n",
              "      height: 32px;\n",
              "      padding: 0 0 0 0;\n",
              "      width: 32px;\n",
              "    }\n",
              "\n",
              "    .colab-df-convert:hover {\n",
              "      background-color: #E2EBFA;\n",
              "      box-shadow: 0px 1px 2px rgba(60, 64, 67, 0.3), 0px 1px 3px 1px rgba(60, 64, 67, 0.15);\n",
              "      fill: #174EA6;\n",
              "    }\n",
              "\n",
              "    .colab-df-buttons div {\n",
              "      margin-bottom: 4px;\n",
              "    }\n",
              "\n",
              "    [theme=dark] .colab-df-convert {\n",
              "      background-color: #3B4455;\n",
              "      fill: #D2E3FC;\n",
              "    }\n",
              "\n",
              "    [theme=dark] .colab-df-convert:hover {\n",
              "      background-color: #434B5C;\n",
              "      box-shadow: 0px 1px 3px 1px rgba(0, 0, 0, 0.15);\n",
              "      filter: drop-shadow(0px 1px 2px rgba(0, 0, 0, 0.3));\n",
              "      fill: #FFFFFF;\n",
              "    }\n",
              "  </style>\n",
              "\n",
              "    <script>\n",
              "      const buttonEl =\n",
              "        document.querySelector('#df-9b7e4e03-e468-4956-ab09-284b4ae8b0a7 button.colab-df-convert');\n",
              "      buttonEl.style.display =\n",
              "        google.colab.kernel.accessAllowed ? 'block' : 'none';\n",
              "\n",
              "      async function convertToInteractive(key) {\n",
              "        const element = document.querySelector('#df-9b7e4e03-e468-4956-ab09-284b4ae8b0a7');\n",
              "        const dataTable =\n",
              "          await google.colab.kernel.invokeFunction('convertToInteractive',\n",
              "                                                    [key], {});\n",
              "        if (!dataTable) return;\n",
              "\n",
              "        const docLinkHtml = 'Like what you see? Visit the ' +\n",
              "          '<a target=\"_blank\" href=https://colab.research.google.com/notebooks/data_table.ipynb>data table notebook</a>'\n",
              "          + ' to learn more about interactive tables.';\n",
              "        element.innerHTML = '';\n",
              "        dataTable['output_type'] = 'display_data';\n",
              "        await google.colab.output.renderOutput(dataTable, element);\n",
              "        const docLink = document.createElement('div');\n",
              "        docLink.innerHTML = docLinkHtml;\n",
              "        element.appendChild(docLink);\n",
              "      }\n",
              "    </script>\n",
              "  </div>\n",
              "\n",
              "\n",
              "<div id=\"df-41f827bf-985d-4e3a-8451-ba6b1f3bae8d\">\n",
              "  <button class=\"colab-df-quickchart\" onclick=\"quickchart('df-41f827bf-985d-4e3a-8451-ba6b1f3bae8d')\"\n",
              "            title=\"Suggest charts\"\n",
              "            style=\"display:none;\">\n",
              "\n",
              "<svg xmlns=\"http://www.w3.org/2000/svg\" height=\"24px\"viewBox=\"0 0 24 24\"\n",
              "     width=\"24px\">\n",
              "    <g>\n",
              "        <path d=\"M19 3H5c-1.1 0-2 .9-2 2v14c0 1.1.9 2 2 2h14c1.1 0 2-.9 2-2V5c0-1.1-.9-2-2-2zM9 17H7v-7h2v7zm4 0h-2V7h2v10zm4 0h-2v-4h2v4z\"/>\n",
              "    </g>\n",
              "</svg>\n",
              "  </button>\n",
              "\n",
              "<style>\n",
              "  .colab-df-quickchart {\n",
              "      --bg-color: #E8F0FE;\n",
              "      --fill-color: #1967D2;\n",
              "      --hover-bg-color: #E2EBFA;\n",
              "      --hover-fill-color: #174EA6;\n",
              "      --disabled-fill-color: #AAA;\n",
              "      --disabled-bg-color: #DDD;\n",
              "  }\n",
              "\n",
              "  [theme=dark] .colab-df-quickchart {\n",
              "      --bg-color: #3B4455;\n",
              "      --fill-color: #D2E3FC;\n",
              "      --hover-bg-color: #434B5C;\n",
              "      --hover-fill-color: #FFFFFF;\n",
              "      --disabled-bg-color: #3B4455;\n",
              "      --disabled-fill-color: #666;\n",
              "  }\n",
              "\n",
              "  .colab-df-quickchart {\n",
              "    background-color: var(--bg-color);\n",
              "    border: none;\n",
              "    border-radius: 50%;\n",
              "    cursor: pointer;\n",
              "    display: none;\n",
              "    fill: var(--fill-color);\n",
              "    height: 32px;\n",
              "    padding: 0;\n",
              "    width: 32px;\n",
              "  }\n",
              "\n",
              "  .colab-df-quickchart:hover {\n",
              "    background-color: var(--hover-bg-color);\n",
              "    box-shadow: 0 1px 2px rgba(60, 64, 67, 0.3), 0 1px 3px 1px rgba(60, 64, 67, 0.15);\n",
              "    fill: var(--button-hover-fill-color);\n",
              "  }\n",
              "\n",
              "  .colab-df-quickchart-complete:disabled,\n",
              "  .colab-df-quickchart-complete:disabled:hover {\n",
              "    background-color: var(--disabled-bg-color);\n",
              "    fill: var(--disabled-fill-color);\n",
              "    box-shadow: none;\n",
              "  }\n",
              "\n",
              "  .colab-df-spinner {\n",
              "    border: 2px solid var(--fill-color);\n",
              "    border-color: transparent;\n",
              "    border-bottom-color: var(--fill-color);\n",
              "    animation:\n",
              "      spin 1s steps(1) infinite;\n",
              "  }\n",
              "\n",
              "  @keyframes spin {\n",
              "    0% {\n",
              "      border-color: transparent;\n",
              "      border-bottom-color: var(--fill-color);\n",
              "      border-left-color: var(--fill-color);\n",
              "    }\n",
              "    20% {\n",
              "      border-color: transparent;\n",
              "      border-left-color: var(--fill-color);\n",
              "      border-top-color: var(--fill-color);\n",
              "    }\n",
              "    30% {\n",
              "      border-color: transparent;\n",
              "      border-left-color: var(--fill-color);\n",
              "      border-top-color: var(--fill-color);\n",
              "      border-right-color: var(--fill-color);\n",
              "    }\n",
              "    40% {\n",
              "      border-color: transparent;\n",
              "      border-right-color: var(--fill-color);\n",
              "      border-top-color: var(--fill-color);\n",
              "    }\n",
              "    60% {\n",
              "      border-color: transparent;\n",
              "      border-right-color: var(--fill-color);\n",
              "    }\n",
              "    80% {\n",
              "      border-color: transparent;\n",
              "      border-right-color: var(--fill-color);\n",
              "      border-bottom-color: var(--fill-color);\n",
              "    }\n",
              "    90% {\n",
              "      border-color: transparent;\n",
              "      border-bottom-color: var(--fill-color);\n",
              "    }\n",
              "  }\n",
              "</style>\n",
              "\n",
              "  <script>\n",
              "    async function quickchart(key) {\n",
              "      const quickchartButtonEl =\n",
              "        document.querySelector('#' + key + ' button');\n",
              "      quickchartButtonEl.disabled = true;  // To prevent multiple clicks.\n",
              "      quickchartButtonEl.classList.add('colab-df-spinner');\n",
              "      try {\n",
              "        const charts = await google.colab.kernel.invokeFunction(\n",
              "            'suggestCharts', [key], {});\n",
              "      } catch (error) {\n",
              "        console.error('Error during call to suggestCharts:', error);\n",
              "      }\n",
              "      quickchartButtonEl.classList.remove('colab-df-spinner');\n",
              "      quickchartButtonEl.classList.add('colab-df-quickchart-complete');\n",
              "    }\n",
              "    (() => {\n",
              "      let quickchartButtonEl =\n",
              "        document.querySelector('#df-41f827bf-985d-4e3a-8451-ba6b1f3bae8d button');\n",
              "      quickchartButtonEl.style.display =\n",
              "        google.colab.kernel.accessAllowed ? 'block' : 'none';\n",
              "    })();\n",
              "  </script>\n",
              "</div>\n",
              "\n",
              "    </div>\n",
              "  </div>\n"
            ],
            "application/vnd.google.colaboratory.intrinsic+json": {
              "type": "dataframe",
              "variable_name": "train2"
            }
          },
          "metadata": {},
          "execution_count": 4
        }
      ],
      "source": [
        "test = pd.read_csv(ruta_test)\n",
        "train = pd.read_csv(ruta_train)\n",
        "train2 = train.drop('label',axis=1)\n",
        "labels = train.pop('label')\n",
        "# De paso, vemos qué tienen\n",
        "train2.head()"
      ]
    },
    {
      "cell_type": "code",
      "execution_count": 5,
      "id": "dcb062b7",
      "metadata": {
        "execution": {
          "iopub.execute_input": "2022-11-04T02:17:01.877973Z",
          "iopub.status.busy": "2022-11-04T02:17:01.877579Z",
          "iopub.status.idle": "2022-11-04T02:17:01.885051Z",
          "shell.execute_reply": "2022-11-04T02:17:01.883777Z"
        },
        "papermill": {
          "duration": 0.019215,
          "end_time": "2022-11-04T02:17:01.887289",
          "exception": false,
          "start_time": "2022-11-04T02:17:01.868074",
          "status": "completed"
        },
        "tags": [],
        "id": "dcb062b7",
        "outputId": "4514fb1c-4d64-4578-ceb5-09d18f5922c4",
        "colab": {
          "base_uri": "https://localhost:8080/"
        }
      },
      "outputs": [
        {
          "output_type": "execute_result",
          "data": {
            "text/plain": [
              "((28000, 784), (42000, 784))"
            ]
          },
          "metadata": {},
          "execution_count": 5
        }
      ],
      "source": [
        "test.shape,train.shape"
      ]
    },
    {
      "cell_type": "markdown",
      "source": [
        "# 2. Evaluamos el proceso y preparamos los datos"
      ],
      "metadata": {
        "id": "Psm6QexFxhc2"
      },
      "id": "Psm6QexFxhc2"
    },
    {
      "cell_type": "markdown",
      "id": "b11d197e",
      "metadata": {
        "papermill": {
          "duration": 0.006323,
          "end_time": "2022-11-04T02:17:01.900607",
          "exception": false,
          "start_time": "2022-11-04T02:17:01.894284",
          "status": "completed"
        },
        "tags": [],
        "id": "b11d197e"
      },
      "source": [
        "Vamos a tratar de graficar algo. Primero tenemos que identificar que a cada fila (de 784 columnas/píxeles) en realidad corresponden a un cuadrado de 28x28"
      ]
    },
    {
      "cell_type": "code",
      "execution_count": 6,
      "id": "de1809c6",
      "metadata": {
        "execution": {
          "iopub.execute_input": "2022-11-04T02:17:01.915741Z",
          "iopub.status.busy": "2022-11-04T02:17:01.915332Z",
          "iopub.status.idle": "2022-11-04T02:17:02.137109Z",
          "shell.execute_reply": "2022-11-04T02:17:02.135732Z"
        },
        "papermill": {
          "duration": 0.232375,
          "end_time": "2022-11-04T02:17:02.139711",
          "exception": false,
          "start_time": "2022-11-04T02:17:01.907336",
          "status": "completed"
        },
        "tags": [],
        "id": "de1809c6",
        "outputId": "76fa1c47-4878-4036-a5e2-c8bd360529c9",
        "colab": {
          "base_uri": "https://localhost:8080/",
          "height": 539
        }
      },
      "outputs": [
        {
          "output_type": "stream",
          "name": "stdout",
          "text": [
            "Train Data shape      : (28, 28, 1)\n",
            "Test Data shape       : (28, 28, 1)\n"
          ]
        },
        {
          "output_type": "execute_result",
          "data": {
            "text/plain": [
              "<matplotlib.image.AxesImage at 0x7f4f14418350>"
            ]
          },
          "metadata": {},
          "execution_count": 6
        },
        {
          "output_type": "display_data",
          "data": {
            "text/plain": [
              "<Figure size 640x480 with 1 Axes>"
            ],
            "image/png": "[encoded data removed]"
          },
          "metadata": {}
        }
      ],
      "source": [
        "x_train = train2.values[101].reshape( 28, 28, 1)\n",
        "x_test  = test.values[101].reshape(28, 28, 1)\n",
        "\n",
        "print('Train Data shape      :', x_train.shape)\n",
        "print('Test Data shape       :', x_test.shape)\n",
        "\n",
        "\n",
        "plt.imshow(x_test)"
      ]
    },
    {
      "cell_type": "markdown",
      "id": "7b7d64cb",
      "metadata": {
        "papermill": {
          "duration": 0.006797,
          "end_time": "2022-11-04T02:17:02.153449",
          "exception": false,
          "start_time": "2022-11-04T02:17:02.146652",
          "status": "completed"
        },
        "tags": [],
        "id": "7b7d64cb"
      },
      "source": [
        "Éxito! Ahora tratemos de graficar 1 número aleatorio, y ahora sí le damos forma al array. Tenemos que hacer reshape de TODO el dataset.\n"
      ]
    },
    {
      "cell_type": "code",
      "execution_count": 7,
      "id": "4ac35a93",
      "metadata": {
        "execution": {
          "iopub.execute_input": "2022-11-04T02:17:02.169401Z",
          "iopub.status.busy": "2022-11-04T02:17:02.168979Z",
          "iopub.status.idle": "2022-11-04T02:17:02.442399Z",
          "shell.execute_reply": "2022-11-04T02:17:02.441355Z"
        },
        "papermill": {
          "duration": 0.284412,
          "end_time": "2022-11-04T02:17:02.444865",
          "exception": false,
          "start_time": "2022-11-04T02:17:02.160453",
          "status": "completed"
        },
        "tags": [],
        "id": "4ac35a93",
        "outputId": "611141a6-fcb0-40e0-c293-049bdd2dab0a",
        "colab": {
          "base_uri": "https://localhost:8080/",
          "height": 504
        }
      },
      "outputs": [
        {
          "output_type": "execute_result",
          "data": {
            "text/plain": [
              "<matplotlib.image.AxesImage at 0x7f4f10dd3690>"
            ]
          },
          "metadata": {},
          "execution_count": 7
        },
        {
          "output_type": "display_data",
          "data": {
            "text/plain": [
              "<Figure size 640x480 with 1 Axes>"
            ],
            "image/png": "[encoded data removed]"
          },
          "metadata": {}
        }
      ],
      "source": [
        "test_RS = test.values.reshape(test.shape[0],28,28)\n",
        "test_RS.shape\n",
        "\n",
        "i = random.randint(0, test.shape[0])\n",
        "\n",
        "plt.imshow(test_RS[i])"
      ]
    },
    {
      "cell_type": "markdown",
      "id": "e02a404c",
      "metadata": {
        "papermill": {
          "duration": 0.006915,
          "end_time": "2022-11-04T02:17:02.459094",
          "exception": false,
          "start_time": "2022-11-04T02:17:02.452179",
          "status": "completed"
        },
        "tags": [],
        "id": "e02a404c"
      },
      "source": [
        "Con el train, tenemos que hacer lo mismo, pero ésta vez le tenemos que agregar la columna \"label\" que le sacamos"
      ]
    },
    {
      "cell_type": "code",
      "execution_count": 8,
      "id": "86f4300a",
      "metadata": {
        "execution": {
          "iopub.execute_input": "2022-11-04T02:17:02.475412Z",
          "iopub.status.busy": "2022-11-04T02:17:02.474970Z",
          "iopub.status.idle": "2022-11-04T02:17:03.207722Z",
          "shell.execute_reply": "2022-11-04T02:17:03.206461Z"
        },
        "papermill": {
          "duration": 0.744267,
          "end_time": "2022-11-04T02:17:03.210715",
          "exception": false,
          "start_time": "2022-11-04T02:17:02.466448",
          "status": "completed"
        },
        "tags": [],
        "id": "86f4300a",
        "outputId": "1906ed1e-9535-46bc-fc5e-15a1fbb27749",
        "colab": {
          "base_uri": "https://localhost:8080/",
          "height": 507
        }
      },
      "outputs": [
        {
          "output_type": "display_data",
          "data": {
            "text/plain": [
              "<Figure size 500x500 with 16 Axes>"
            ],
            "image/png": "[encoded data removed]"
          },
          "metadata": {}
        }
      ],
      "source": [
        "train_RS = train2.values.reshape(train2.shape[0],28,28)\n",
        "train_RS.shape\n",
        "\n",
        "r = random.randint(0, train2.shape[0])\n",
        "\n",
        "\n",
        "plt.figure(figsize=(5,5))\n",
        "for i in range(16):\n",
        "    r = random.randint(0, train2.shape[0])\n",
        "    image = train_RS[r]\n",
        "    plt.subplot(4, 4, i+1)\n",
        "    plt.imshow(tf.squeeze(image))\n",
        "    plt.axis('off')\n",
        "plt.show()\n",
        "\n"
      ]
    },
    {
      "cell_type": "markdown",
      "id": "388aa817",
      "metadata": {
        "papermill": {
          "duration": 0.008097,
          "end_time": "2022-11-04T02:17:03.227270",
          "exception": false,
          "start_time": "2022-11-04T02:17:03.219173",
          "status": "completed"
        },
        "tags": [],
        "id": "388aa817"
      },
      "source": [
        "Definimos las variables para entrenamiento, y para testing"
      ]
    },
    {
      "cell_type": "code",
      "execution_count": 9,
      "id": "3a12a463",
      "metadata": {
        "execution": {
          "iopub.execute_input": "2022-11-04T02:17:03.246559Z",
          "iopub.status.busy": "2022-11-04T02:17:03.245424Z",
          "iopub.status.idle": "2022-11-04T02:17:03.675319Z",
          "shell.execute_reply": "2022-11-04T02:17:03.673958Z"
        },
        "papermill": {
          "duration": 0.442042,
          "end_time": "2022-11-04T02:17:03.677729",
          "exception": false,
          "start_time": "2022-11-04T02:17:03.235687",
          "status": "completed"
        },
        "tags": [],
        "id": "3a12a463",
        "outputId": "6b44ca35-65dc-4fdb-d23c-fbc2876c6eef",
        "colab": {
          "base_uri": "https://localhost:8080/"
        }
      },
      "outputs": [
        {
          "output_type": "execute_result",
          "data": {
            "text/plain": [
              "((33600, 28, 28), (33600,))"
            ]
          },
          "metadata": {},
          "execution_count": 9
        }
      ],
      "source": [
        "X_train, X_test, y_train, y_test = train_test_split(train_RS, labels, test_size=0.2, random_state=42)\n",
        "X_train.shape,y_train.shape"
      ]
    },
    {
      "cell_type": "markdown",
      "source": [
        "# 3. Generar el modelo"
      ],
      "metadata": {
        "id": "11QcxgKkxrkA"
      },
      "id": "11QcxgKkxrkA"
    },
    {
      "cell_type": "markdown",
      "id": "c9948b1f",
      "metadata": {
        "papermill": {
          "duration": 0.008121,
          "end_time": "2022-11-04T02:17:03.694561",
          "exception": false,
          "start_time": "2022-11-04T02:17:03.686440",
          "status": "completed"
        },
        "tags": [],
        "id": "c9948b1f"
      },
      "source": [
        "definimos el modelo"
      ]
    },
    {
      "cell_type": "code",
      "execution_count": 10,
      "id": "2b6197b4",
      "metadata": {
        "execution": {
          "iopub.execute_input": "2022-11-04T02:17:03.713935Z",
          "iopub.status.busy": "2022-11-04T02:17:03.712930Z",
          "iopub.status.idle": "2022-11-04T02:17:03.844980Z",
          "shell.execute_reply": "2022-11-04T02:17:03.843769Z"
        },
        "papermill": {
          "duration": 0.144606,
          "end_time": "2022-11-04T02:17:03.847824",
          "exception": false,
          "start_time": "2022-11-04T02:17:03.703218",
          "status": "completed"
        },
        "tags": [],
        "id": "2b6197b4"
      },
      "outputs": [],
      "source": [
        "modelo = keras.Sequential([\n",
        "    layers.Flatten(input_shape=(28, 28)),\n",
        "    layers.Dense(128, activation='relu'),\n",
        "    layers.Dropout(rate=0.3),\n",
        "    layers.BatchNormalization(),\n",
        "    layers.Dense(128, activation='relu'),\n",
        "    layers.Dense(10)\n",
        "])\n",
        "\n",
        "modelo.compile(\n",
        "    optimizer = 'adam',\n",
        "    loss = tf.keras.losses.SparseCategoricalCrossentropy(from_logits=True),\n",
        "    metrics=['accuracy'],\n",
        ")"
      ]
    },
    {
      "cell_type": "markdown",
      "source": [
        "# 4. Entrenar el modelo"
      ],
      "metadata": {
        "id": "CtxIRkiYxvAm"
      },
      "id": "CtxIRkiYxvAm"
    },
    {
      "cell_type": "markdown",
      "id": "6c04eab2",
      "metadata": {
        "papermill": {
          "duration": 0.008308,
          "end_time": "2022-11-04T02:17:03.864874",
          "exception": false,
          "start_time": "2022-11-04T02:17:03.856566",
          "status": "completed"
        },
        "tags": [],
        "id": "6c04eab2"
      },
      "source": [
        "*-Musica de Rocky-* Entrenamos el modelo\n"
      ]
    },
    {
      "cell_type": "code",
      "execution_count": 11,
      "id": "829a8fda",
      "metadata": {
        "execution": {
          "iopub.execute_input": "2022-11-04T02:17:03.883897Z",
          "iopub.status.busy": "2022-11-04T02:17:03.883468Z",
          "iopub.status.idle": "2022-11-04T02:18:16.406727Z",
          "shell.execute_reply": "2022-11-04T02:18:16.405696Z"
        },
        "papermill": {
          "duration": 72.535524,
          "end_time": "2022-11-04T02:18:16.409104",
          "exception": false,
          "start_time": "2022-11-04T02:17:03.873580",
          "status": "completed"
        },
        "tags": [],
        "id": "829a8fda",
        "outputId": "db1cc544-0677-416c-dd39-04149b7236ec",
        "colab": {
          "base_uri": "https://localhost:8080/"
        }
      },
      "outputs": [
        {
          "output_type": "stream",
          "name": "stdout",
          "text": [
            "Epoch 1/20\n",
            "\u001b[1m1050/1050\u001b[0m \u001b[32m━━━━━━━━━━━━━━━━━━━━\u001b[0m\u001b[37m\u001b[0m \u001b[1m7s\u001b[0m 5ms/step - accuracy: 0.8042 - loss: 0.6230\n",
            "Epoch 2/20\n",
            "\u001b[1m1050/1050\u001b[0m \u001b[32m━━━━━━━━━━━━━━━━━━━━\u001b[0m\u001b[37m\u001b[0m \u001b[1m5s\u001b[0m 5ms/step - accuracy: 0.9298 - loss: 0.2207\n",
            "Epoch 3/20\n",
            "\u001b[1m1050/1050\u001b[0m \u001b[32m━━━━━━━━━━━━━━━━━━━━\u001b[0m\u001b[37m\u001b[0m \u001b[1m4s\u001b[0m 4ms/step - accuracy: 0.9368 - loss: 0.1959\n",
            "Epoch 4/20\n",
            "\u001b[1m1050/1050\u001b[0m \u001b[32m━━━━━━━━━━━━━━━━━━━━\u001b[0m\u001b[37m\u001b[0m \u001b[1m6s\u001b[0m 5ms/step - accuracy: 0.9465 - loss: 0.1669\n",
            "Epoch 5/20\n",
            "\u001b[1m1050/1050\u001b[0m \u001b[32m━━━━━━━━━━━━━━━━━━━━\u001b[0m\u001b[37m\u001b[0m \u001b[1m4s\u001b[0m 4ms/step - accuracy: 0.9465 - loss: 0.1625\n",
            "Epoch 6/20\n",
            "\u001b[1m1050/1050\u001b[0m \u001b[32m━━━━━━━━━━━━━━━━━━━━\u001b[0m\u001b[37m\u001b[0m \u001b[1m6s\u001b[0m 5ms/step - accuracy: 0.9568 - loss: 0.1363\n",
            "Epoch 7/20\n",
            "\u001b[1m1050/1050\u001b[0m \u001b[32m━━━━━━━━━━━━━━━━━━━━\u001b[0m\u001b[37m\u001b[0m \u001b[1m10s\u001b[0m 5ms/step - accuracy: 0.9586 - loss: 0.1286\n",
            "Epoch 8/20\n",
            "\u001b[1m1050/1050\u001b[0m \u001b[32m━━━━━━━━━━━━━━━━━━━━\u001b[0m\u001b[37m\u001b[0m \u001b[1m5s\u001b[0m 5ms/step - accuracy: 0.9605 - loss: 0.1219\n",
            "Epoch 9/20\n",
            "\u001b[1m1050/1050\u001b[0m \u001b[32m━━━━━━━━━━━━━━━━━━━━\u001b[0m\u001b[37m\u001b[0m \u001b[1m4s\u001b[0m 4ms/step - accuracy: 0.9609 - loss: 0.1210\n",
            "Epoch 10/20\n",
            "\u001b[1m1050/1050\u001b[0m \u001b[32m━━━━━━━━━━━━━━━━━━━━\u001b[0m\u001b[37m\u001b[0m \u001b[1m5s\u001b[0m 5ms/step - accuracy: 0.9623 - loss: 0.1177\n",
            "Epoch 11/20\n",
            "\u001b[1m1050/1050\u001b[0m \u001b[32m━━━━━━━━━━━━━━━━━━━━\u001b[0m\u001b[37m\u001b[0m \u001b[1m9s\u001b[0m 4ms/step - accuracy: 0.9680 - loss: 0.1005\n",
            "Epoch 12/20\n",
            "\u001b[1m1050/1050\u001b[0m \u001b[32m━━━━━━━━━━━━━━━━━━━━\u001b[0m\u001b[37m\u001b[0m \u001b[1m6s\u001b[0m 5ms/step - accuracy: 0.9679 - loss: 0.0969\n",
            "Epoch 13/20\n",
            "\u001b[1m1050/1050\u001b[0m \u001b[32m━━━━━━━━━━━━━━━━━━━━\u001b[0m\u001b[37m\u001b[0m \u001b[1m4s\u001b[0m 4ms/step - accuracy: 0.9696 - loss: 0.0940\n",
            "Epoch 14/20\n",
            "\u001b[1m1050/1050\u001b[0m \u001b[32m━━━━━━━━━━━━━━━━━━━━\u001b[0m\u001b[37m\u001b[0m \u001b[1m5s\u001b[0m 4ms/step - accuracy: 0.9690 - loss: 0.0919\n",
            "Epoch 15/20\n",
            "\u001b[1m1050/1050\u001b[0m \u001b[32m━━━━━━━━━━━━━━━━━━━━\u001b[0m\u001b[37m\u001b[0m \u001b[1m5s\u001b[0m 5ms/step - accuracy: 0.9690 - loss: 0.0916\n",
            "Epoch 16/20\n",
            "\u001b[1m1050/1050\u001b[0m \u001b[32m━━━━━━━━━━━━━━━━━━━━\u001b[0m\u001b[37m\u001b[0m \u001b[1m5s\u001b[0m 4ms/step - accuracy: 0.9721 - loss: 0.0872\n",
            "Epoch 17/20\n",
            "\u001b[1m1050/1050\u001b[0m \u001b[32m━━━━━━━━━━━━━━━━━━━━\u001b[0m\u001b[37m\u001b[0m \u001b[1m6s\u001b[0m 5ms/step - accuracy: 0.9739 - loss: 0.0814\n",
            "Epoch 18/20\n",
            "\u001b[1m1050/1050\u001b[0m \u001b[32m━━━━━━━━━━━━━━━━━━━━\u001b[0m\u001b[37m\u001b[0m \u001b[1m10s\u001b[0m 5ms/step - accuracy: 0.9737 - loss: 0.0812\n",
            "Epoch 19/20\n",
            "\u001b[1m1050/1050\u001b[0m \u001b[32m━━━━━━━━━━━━━━━━━━━━\u001b[0m\u001b[37m\u001b[0m \u001b[1m5s\u001b[0m 5ms/step - accuracy: 0.9722 - loss: 0.0818\n",
            "Epoch 20/20\n",
            "\u001b[1m1050/1050\u001b[0m \u001b[32m━━━━━━━━━━━━━━━━━━━━\u001b[0m\u001b[37m\u001b[0m \u001b[1m5s\u001b[0m 4ms/step - accuracy: 0.9745 - loss: 0.0757\n"
          ]
        },
        {
          "output_type": "execute_result",
          "data": {
            "text/plain": [
              "<keras.src.callbacks.history.History at 0x7f4f1126c290>"
            ]
          },
          "metadata": {},
          "execution_count": 11
        }
      ],
      "source": [
        "modelo.fit(\n",
        "    X_train,y_train,\n",
        "    epochs=20,\n",
        ")"
      ]
    },
    {
      "cell_type": "markdown",
      "source": [
        "# 5. Realizar inferencias"
      ],
      "metadata": {
        "id": "qQy3LPBvxzv_"
      },
      "id": "qQy3LPBvxzv_"
    },
    {
      "cell_type": "markdown",
      "id": "3d0fef87",
      "metadata": {
        "papermill": {
          "duration": 0.092594,
          "end_time": "2022-11-04T02:18:16.595565",
          "exception": false,
          "start_time": "2022-11-04T02:18:16.502971",
          "status": "completed"
        },
        "tags": [],
        "id": "3d0fef87"
      },
      "source": [
        "Listo! A probar..."
      ]
    },
    {
      "cell_type": "code",
      "execution_count": 12,
      "id": "acc8fd37",
      "metadata": {
        "execution": {
          "iopub.execute_input": "2022-11-04T02:18:16.783063Z",
          "iopub.status.busy": "2022-11-04T02:18:16.782641Z",
          "iopub.status.idle": "2022-11-04T02:18:17.526807Z",
          "shell.execute_reply": "2022-11-04T02:18:17.524856Z"
        },
        "papermill": {
          "duration": 0.841729,
          "end_time": "2022-11-04T02:18:17.529525",
          "exception": false,
          "start_time": "2022-11-04T02:18:16.687796",
          "status": "completed"
        },
        "tags": [],
        "id": "acc8fd37",
        "outputId": "897804d2-fd2d-40f6-fd55-0712e41a04d6",
        "colab": {
          "base_uri": "https://localhost:8080/"
        }
      },
      "outputs": [
        {
          "output_type": "stream",
          "name": "stdout",
          "text": [
            "263/263 - 1s - 3ms/step - accuracy: 0.9748 - loss: 0.2820\n",
            "\n",
            "Test accuracy: 0.9747619032859802\n"
          ]
        }
      ],
      "source": [
        "test_loss, test_acc = modelo.evaluate(X_test, y_test, verbose=2)\n",
        "\n",
        "print('\\nTest accuracy:', test_acc)"
      ]
    },
    {
      "cell_type": "markdown",
      "source": [
        "# 6. Crear predicciones"
      ],
      "metadata": {
        "id": "GmBKK-dkx5iv"
      },
      "id": "GmBKK-dkx5iv"
    },
    {
      "cell_type": "code",
      "execution_count": 13,
      "id": "c4128fa1",
      "metadata": {
        "execution": {
          "iopub.execute_input": "2022-11-04T02:18:17.717072Z",
          "iopub.status.busy": "2022-11-04T02:18:17.716392Z",
          "iopub.status.idle": "2022-11-04T02:18:19.585719Z",
          "shell.execute_reply": "2022-11-04T02:18:19.584476Z"
        },
        "papermill": {
          "duration": 1.966512,
          "end_time": "2022-11-04T02:18:19.588844",
          "exception": false,
          "start_time": "2022-11-04T02:18:17.622332",
          "status": "completed"
        },
        "tags": [],
        "id": "c4128fa1",
        "outputId": "60612221-fdec-49b8-e9b5-6388864c3fab",
        "colab": {
          "base_uri": "https://localhost:8080/",
          "height": 539
        }
      },
      "outputs": [
        {
          "output_type": "stream",
          "name": "stdout",
          "text": [
            "\u001b[1m875/875\u001b[0m \u001b[32m━━━━━━━━━━━━━━━━━━━━\u001b[0m\u001b[37m\u001b[0m \u001b[1m1s\u001b[0m 2ms/step\n",
            "0\n"
          ]
        },
        {
          "output_type": "execute_result",
          "data": {
            "text/plain": [
              "(<matplotlib.image.AxesImage at 0x7f4ed151cc90>, None)"
            ]
          },
          "metadata": {},
          "execution_count": 13
        },
        {
          "output_type": "display_data",
          "data": {
            "text/plain": [
              "<Figure size 640x480 with 1 Axes>"
            ],
            "image/png": "[encoded data removed]"
          },
          "metadata": {}
        }
      ],
      "source": [
        "predicciones = modelo.predict(test_RS)\n",
        "df2 = pd.DataFrame(predicciones)\n",
        "df2.head()\n",
        "i = random.randint(0, test.shape[0])\n",
        "pred=pd.Series(predicciones[i])\n",
        "plt.imshow(test_RS[i]),print(pred.idxmax())\n"
      ]
    },
    {
      "cell_type": "markdown",
      "source": [
        "# 7. Procesar / Enviar / Mostrar los datos"
      ],
      "metadata": {
        "id": "hcBB7QLMx-Cv"
      },
      "id": "hcBB7QLMx-Cv"
    },
    {
      "cell_type": "code",
      "execution_count": 14,
      "id": "7f2e36b7",
      "metadata": {
        "id": "7f2e36b7",
        "outputId": "17f688bb-22cb-4840-ed7e-be6d5bb27a88",
        "colab": {
          "base_uri": "https://localhost:8080/",
          "height": 556
        }
      },
      "outputs": [
        {
          "output_type": "stream",
          "name": "stdout",
          "text": [
            "El número que se identificó en la imagen es 9\n",
            "-----------------\n",
            "La imagen que el algoritmo vio es: \n"
          ]
        },
        {
          "output_type": "execute_result",
          "data": {
            "text/plain": [
              "<matplotlib.image.AxesImage at 0x7f4ed153d650>"
            ]
          },
          "metadata": {},
          "execution_count": 14
        },
        {
          "output_type": "display_data",
          "data": {
            "text/plain": [
              "<Figure size 640x480 with 1 Axes>"
            ],
            "image/png": "[encoded data removed]"
          },
          "metadata": {}
        }
      ],
      "source": [
        "# Seleccionamos una imagen random\n",
        "i = random.randint(0, test.shape[0])\n",
        "\n",
        "# Le decimos al algoritmo que prediga, y nos indique qué número es.\n",
        "pred=pd.Series(predicciones[i])\n",
        "print (f\"El número que se identificó en la imagen es {pred.idxmax()}\")\n",
        "print(\"-----------------\")\n",
        "# y finalmente le pedimos a Python que grafique... A ver si es cierto\n",
        "print(\"La imagen que el algoritmo vio es: \")\n",
        "plt.imshow(test_RS[i])"
      ]
    },
    {
      "cell_type": "markdown",
      "source": [
        "# Probemos con una imagen generada en el momento"
      ],
      "metadata": {
        "id": "62KYKPY3yGFm"
      },
      "id": "62KYKPY3yGFm"
    },
    {
      "cell_type": "code",
      "execution_count": 18,
      "id": "cad5d5b9",
      "metadata": {
        "id": "cad5d5b9",
        "outputId": "d107f305-2db5-416c-aa89-96b99973c5a4",
        "colab": {
          "base_uri": "https://localhost:8080/",
          "height": 332
        }
      },
      "outputs": [
        {
          "output_type": "error",
          "ename": "FileNotFoundError",
          "evalue": "[Errno 2] No such file or directory: 'numero.png'",
          "traceback": [
            "\u001b[0;31m---------------------------------------------------------------------------\u001b[0m",
            "\u001b[0;31mFileNotFoundError\u001b[0m                         Traceback (most recent call last)",
            "\u001b[0;32m<ipython-input-18-d846145b9e5a>\u001b[0m in \u001b[0;36m<cell line: 0>\u001b[0;34m()\u001b[0m\n\u001b[1;32m      3\u001b[0m \u001b[0;34m\u001b[0m\u001b[0m\n\u001b[1;32m      4\u001b[0m \u001b[0;31m# read an image\u001b[0m\u001b[0;34m\u001b[0m\u001b[0;34m\u001b[0m\u001b[0m\n\u001b[0;32m----> 5\u001b[0;31m \u001b[0mimg\u001b[0m \u001b[0;34m=\u001b[0m \u001b[0mImage\u001b[0m\u001b[0;34m.\u001b[0m\u001b[0mopen\u001b[0m\u001b[0;34m(\u001b[0m\u001b[0;34m'numero.png'\u001b[0m\u001b[0;34m)\u001b[0m\u001b[0;34m\u001b[0m\u001b[0;34m\u001b[0m\u001b[0m\n\u001b[0m\u001b[1;32m      6\u001b[0m \u001b[0;34m\u001b[0m\u001b[0m\n\u001b[1;32m      7\u001b[0m \u001b[0;31m# convert image object into array\u001b[0m\u001b[0;34m\u001b[0m\u001b[0;34m\u001b[0m\u001b[0m\n",
            "\u001b[0;32m/usr/local/lib/python3.11/dist-packages/PIL/Image.py\u001b[0m in \u001b[0;36mopen\u001b[0;34m(fp, mode, formats)\u001b[0m\n\u001b[1;32m   3463\u001b[0m \u001b[0;34m\u001b[0m\u001b[0m\n\u001b[1;32m   3464\u001b[0m     \u001b[0;32mif\u001b[0m \u001b[0mfilename\u001b[0m\u001b[0;34m:\u001b[0m\u001b[0;34m\u001b[0m\u001b[0;34m\u001b[0m\u001b[0m\n\u001b[0;32m-> 3465\u001b[0;31m         \u001b[0mfp\u001b[0m \u001b[0;34m=\u001b[0m \u001b[0mbuiltins\u001b[0m\u001b[0;34m.\u001b[0m\u001b[0mopen\u001b[0m\u001b[0;34m(\u001b[0m\u001b[0mfilename\u001b[0m\u001b[0;34m,\u001b[0m \u001b[0;34m\"rb\"\u001b[0m\u001b[0;34m)\u001b[0m\u001b[0;34m\u001b[0m\u001b[0;34m\u001b[0m\u001b[0m\n\u001b[0m\u001b[1;32m   3466\u001b[0m         \u001b[0mexclusive_fp\u001b[0m \u001b[0;34m=\u001b[0m \u001b[0;32mTrue\u001b[0m\u001b[0;34m\u001b[0m\u001b[0;34m\u001b[0m\u001b[0m\n\u001b[1;32m   3467\u001b[0m     \u001b[0;32melse\u001b[0m\u001b[0;34m:\u001b[0m\u001b[0;34m\u001b[0m\u001b[0;34m\u001b[0m\u001b[0m\n",
            "\u001b[0;31mFileNotFoundError\u001b[0m: [Errno 2] No such file or directory: 'numero.png'"
          ]
        }
      ],
      "source": [
        "# import required libraries\n",
        "from PIL import Image\n",
        "\n",
        "# read an image\n",
        "img = Image.open('numero.png')\n",
        "\n",
        "# convert image object into array\n",
        "matrizImagen = np.asarray(img)\n",
        "\n",
        "foto = np.resize(matrizImagen[:,:,1], (1,28,28))\n",
        "img"
      ]
    },
    {
      "cell_type": "code",
      "execution_count": 17,
      "id": "963aa14e",
      "metadata": {
        "id": "963aa14e",
        "outputId": "bda113a5-4e6a-43b2-8268-d9b4297fcec3",
        "colab": {
          "base_uri": "https://localhost:8080/",
          "height": 211
        }
      },
      "outputs": [
        {
          "output_type": "error",
          "ename": "NameError",
          "evalue": "name 'foto' is not defined",
          "traceback": [
            "\u001b[0;31m---------------------------------------------------------------------------\u001b[0m",
            "\u001b[0;31mNameError\u001b[0m                                 Traceback (most recent call last)",
            "\u001b[0;32m<ipython-input-17-eba3f223522a>\u001b[0m in \u001b[0;36m<cell line: 0>\u001b[0;34m()\u001b[0m\n\u001b[1;32m      1\u001b[0m \u001b[0;31m# Comprobamos a ver si reconoce el número...\u001b[0m\u001b[0;34m\u001b[0m\u001b[0;34m\u001b[0m\u001b[0m\n\u001b[1;32m      2\u001b[0m \u001b[0;34m\u001b[0m\u001b[0m\n\u001b[0;32m----> 3\u001b[0;31m \u001b[0mpr\u001b[0m\u001b[0;34m=\u001b[0m \u001b[0mmodelo\u001b[0m\u001b[0;34m.\u001b[0m\u001b[0mpredict\u001b[0m\u001b[0;34m(\u001b[0m\u001b[0mfoto\u001b[0m\u001b[0;34m)\u001b[0m\u001b[0;34m\u001b[0m\u001b[0;34m\u001b[0m\u001b[0m\n\u001b[0m\u001b[1;32m      4\u001b[0m \u001b[0mprediccion\u001b[0m \u001b[0;34m=\u001b[0m \u001b[0mpd\u001b[0m\u001b[0;34m.\u001b[0m\u001b[0mSeries\u001b[0m\u001b[0;34m(\u001b[0m\u001b[0mpr\u001b[0m\u001b[0;34m[\u001b[0m\u001b[0;36m0\u001b[0m\u001b[0;34m]\u001b[0m\u001b[0;34m)\u001b[0m\u001b[0;34m\u001b[0m\u001b[0;34m\u001b[0m\u001b[0m\n\u001b[1;32m      5\u001b[0m \u001b[0mprediccion\u001b[0m\u001b[0;34m.\u001b[0m\u001b[0midxmax\u001b[0m\u001b[0;34m(\u001b[0m\u001b[0;34m)\u001b[0m \u001b[0;31m#toma el número máximo de la serie\u001b[0m\u001b[0;34m\u001b[0m\u001b[0;34m\u001b[0m\u001b[0m\n",
            "\u001b[0;31mNameError\u001b[0m: name 'foto' is not defined"
          ]
        }
      ],
      "source": [
        "# Comprobamos a ver si reconoce el número...\n",
        "\n",
        "pr= modelo.predict(foto)\n",
        "prediccion = pd.Series(pr[0])\n",
        "prediccion.idxmax() #toma el número máximo de la serie"
      ]
    }
  ],
  "metadata": {
    "kernelspec": {
      "display_name": "Python 3",
      "language": "python",
      "name": "python3"
    },
    "language_info": {
      "codemirror_mode": {
        "name": "ipython",
        "version": 3
      },
      "file_extension": ".py",
      "mimetype": "text/x-python",
      "name": "python",
      "nbconvert_exporter": "python",
      "pygments_lexer": "ipython3",
      "version": "3.11.4"
    },
    "papermill": {
      "default_parameters": {},
      "duration": 108.260163,
      "end_time": "2022-11-04T02:18:27.358224",
      "environment_variables": {},
      "exception": null,
      "input_path": "__notebook__.ipynb",
      "output_path": "__notebook__.ipynb",
      "parameters": {},
      "start_time": "2022-11-04T02:16:39.098061",
      "version": "2.3.4"
    },
    "colab": {
      "provenance": [],
      "include_colab_link": true
    }
  },
  "nbformat": 4,
  "nbformat_minor": 5
}